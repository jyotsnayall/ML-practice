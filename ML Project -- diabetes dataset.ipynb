{
 "cells": [
  {
   "cell_type": "code",
   "execution_count": 34,
   "id": "64505898",
   "metadata": {},
   "outputs": [],
   "source": [
    "import numpy as np\n",
    "import pandas as pd\n",
    "import matplotlib.pyplot as plt"
   ]
  },
  {
   "cell_type": "code",
   "execution_count": 35,
   "id": "f468ced9",
   "metadata": {},
   "outputs": [],
   "source": [
    "df = pd.read_csv('diabetes.csv')"
   ]
  },
  {
   "cell_type": "code",
   "execution_count": 36,
   "id": "01d81cb9",
   "metadata": {},
   "outputs": [
    {
     "data": {
      "text/html": [
       "<div>\n",
       "<style scoped>\n",
       "    .dataframe tbody tr th:only-of-type {\n",
       "        vertical-align: middle;\n",
       "    }\n",
       "\n",
       "    .dataframe tbody tr th {\n",
       "        vertical-align: top;\n",
       "    }\n",
       "\n",
       "    .dataframe thead th {\n",
       "        text-align: right;\n",
       "    }\n",
       "</style>\n",
       "<table border=\"1\" class=\"dataframe\">\n",
       "  <thead>\n",
       "    <tr style=\"text-align: right;\">\n",
       "      <th></th>\n",
       "      <th>Number of times pregnant</th>\n",
       "      <th>Plasma glucose concentration a 2 hours in an oral glucose tolerance test</th>\n",
       "      <th>Diastolic blood pressure (mm Hg)</th>\n",
       "      <th>Triceps skinfold thickness (mm)</th>\n",
       "      <th>2-Hour serum insulin (mu U/ml)</th>\n",
       "      <th>Body mass index (weight in kg/(height in m)^2)</th>\n",
       "      <th>Diabetes pedigree function</th>\n",
       "      <th>Age (years)</th>\n",
       "      <th>Class variable (0 or 1)</th>\n",
       "    </tr>\n",
       "  </thead>\n",
       "  <tbody>\n",
       "    <tr>\n",
       "      <th>0</th>\n",
       "      <td>6</td>\n",
       "      <td>148</td>\n",
       "      <td>72</td>\n",
       "      <td>35</td>\n",
       "      <td>0</td>\n",
       "      <td>33.6</td>\n",
       "      <td>0.627</td>\n",
       "      <td>50</td>\n",
       "      <td>1</td>\n",
       "    </tr>\n",
       "    <tr>\n",
       "      <th>1</th>\n",
       "      <td>1</td>\n",
       "      <td>85</td>\n",
       "      <td>66</td>\n",
       "      <td>29</td>\n",
       "      <td>0</td>\n",
       "      <td>26.6</td>\n",
       "      <td>0.351</td>\n",
       "      <td>31</td>\n",
       "      <td>0</td>\n",
       "    </tr>\n",
       "    <tr>\n",
       "      <th>2</th>\n",
       "      <td>8</td>\n",
       "      <td>183</td>\n",
       "      <td>64</td>\n",
       "      <td>0</td>\n",
       "      <td>0</td>\n",
       "      <td>23.3</td>\n",
       "      <td>0.672</td>\n",
       "      <td>32</td>\n",
       "      <td>1</td>\n",
       "    </tr>\n",
       "    <tr>\n",
       "      <th>3</th>\n",
       "      <td>1</td>\n",
       "      <td>89</td>\n",
       "      <td>66</td>\n",
       "      <td>23</td>\n",
       "      <td>94</td>\n",
       "      <td>28.1</td>\n",
       "      <td>0.167</td>\n",
       "      <td>21</td>\n",
       "      <td>0</td>\n",
       "    </tr>\n",
       "    <tr>\n",
       "      <th>4</th>\n",
       "      <td>0</td>\n",
       "      <td>137</td>\n",
       "      <td>40</td>\n",
       "      <td>35</td>\n",
       "      <td>168</td>\n",
       "      <td>43.1</td>\n",
       "      <td>2.288</td>\n",
       "      <td>33</td>\n",
       "      <td>1</td>\n",
       "    </tr>\n",
       "  </tbody>\n",
       "</table>\n",
       "</div>"
      ],
      "text/plain": [
       "   Number of times pregnant  \\\n",
       "0                         6   \n",
       "1                         1   \n",
       "2                         8   \n",
       "3                         1   \n",
       "4                         0   \n",
       "\n",
       "   Plasma glucose concentration a 2 hours in an oral glucose tolerance test  \\\n",
       "0                                                148                          \n",
       "1                                                 85                          \n",
       "2                                                183                          \n",
       "3                                                 89                          \n",
       "4                                                137                          \n",
       "\n",
       "   Diastolic blood pressure (mm Hg)  Triceps skinfold thickness (mm)  \\\n",
       "0                                72                               35   \n",
       "1                                66                               29   \n",
       "2                                64                                0   \n",
       "3                                66                               23   \n",
       "4                                40                               35   \n",
       "\n",
       "   2-Hour serum insulin (mu U/ml)  \\\n",
       "0                               0   \n",
       "1                               0   \n",
       "2                               0   \n",
       "3                              94   \n",
       "4                             168   \n",
       "\n",
       "   Body mass index (weight in kg/(height in m)^2)  Diabetes pedigree function  \\\n",
       "0                                            33.6                       0.627   \n",
       "1                                            26.6                       0.351   \n",
       "2                                            23.3                       0.672   \n",
       "3                                            28.1                       0.167   \n",
       "4                                            43.1                       2.288   \n",
       "\n",
       "   Age (years)  Class variable (0 or 1)  \n",
       "0           50                        1  \n",
       "1           31                        0  \n",
       "2           32                        1  \n",
       "3           21                        0  \n",
       "4           33                        1  "
      ]
     },
     "execution_count": 36,
     "metadata": {},
     "output_type": "execute_result"
    }
   ],
   "source": [
    "df.head()"
   ]
  },
  {
   "cell_type": "code",
   "execution_count": 37,
   "id": "33768d12",
   "metadata": {},
   "outputs": [
    {
     "data": {
      "text/plain": [
       "0    500\n",
       "1    268\n",
       "Name: Class variable (0 or 1), dtype: int64"
      ]
     },
     "execution_count": 37,
     "metadata": {},
     "output_type": "execute_result"
    }
   ],
   "source": [
    "df['Class variable (0 or 1)'].value_counts()"
   ]
  },
  {
   "cell_type": "code",
   "execution_count": 38,
   "id": "d616785f",
   "metadata": {},
   "outputs": [],
   "source": [
    "x = df.drop('Class variable (0 or 1)', axis=1)\n",
    "y = df.pop('Class variable (0 or 1)')"
   ]
  },
  {
   "cell_type": "code",
   "execution_count": 39,
   "id": "b602b245",
   "metadata": {
    "scrolled": true
   },
   "outputs": [
    {
     "data": {
      "text/html": [
       "<div>\n",
       "<style scoped>\n",
       "    .dataframe tbody tr th:only-of-type {\n",
       "        vertical-align: middle;\n",
       "    }\n",
       "\n",
       "    .dataframe tbody tr th {\n",
       "        vertical-align: top;\n",
       "    }\n",
       "\n",
       "    .dataframe thead th {\n",
       "        text-align: right;\n",
       "    }\n",
       "</style>\n",
       "<table border=\"1\" class=\"dataframe\">\n",
       "  <thead>\n",
       "    <tr style=\"text-align: right;\">\n",
       "      <th></th>\n",
       "      <th>Number of times pregnant</th>\n",
       "      <th>Plasma glucose concentration a 2 hours in an oral glucose tolerance test</th>\n",
       "      <th>Diastolic blood pressure (mm Hg)</th>\n",
       "      <th>Triceps skinfold thickness (mm)</th>\n",
       "      <th>2-Hour serum insulin (mu U/ml)</th>\n",
       "      <th>Body mass index (weight in kg/(height in m)^2)</th>\n",
       "      <th>Diabetes pedigree function</th>\n",
       "      <th>Age (years)</th>\n",
       "    </tr>\n",
       "  </thead>\n",
       "  <tbody>\n",
       "    <tr>\n",
       "      <th>0</th>\n",
       "      <td>6</td>\n",
       "      <td>148</td>\n",
       "      <td>72</td>\n",
       "      <td>35</td>\n",
       "      <td>0</td>\n",
       "      <td>33.6</td>\n",
       "      <td>0.627</td>\n",
       "      <td>50</td>\n",
       "    </tr>\n",
       "    <tr>\n",
       "      <th>1</th>\n",
       "      <td>1</td>\n",
       "      <td>85</td>\n",
       "      <td>66</td>\n",
       "      <td>29</td>\n",
       "      <td>0</td>\n",
       "      <td>26.6</td>\n",
       "      <td>0.351</td>\n",
       "      <td>31</td>\n",
       "    </tr>\n",
       "    <tr>\n",
       "      <th>2</th>\n",
       "      <td>8</td>\n",
       "      <td>183</td>\n",
       "      <td>64</td>\n",
       "      <td>0</td>\n",
       "      <td>0</td>\n",
       "      <td>23.3</td>\n",
       "      <td>0.672</td>\n",
       "      <td>32</td>\n",
       "    </tr>\n",
       "    <tr>\n",
       "      <th>3</th>\n",
       "      <td>1</td>\n",
       "      <td>89</td>\n",
       "      <td>66</td>\n",
       "      <td>23</td>\n",
       "      <td>94</td>\n",
       "      <td>28.1</td>\n",
       "      <td>0.167</td>\n",
       "      <td>21</td>\n",
       "    </tr>\n",
       "    <tr>\n",
       "      <th>4</th>\n",
       "      <td>0</td>\n",
       "      <td>137</td>\n",
       "      <td>40</td>\n",
       "      <td>35</td>\n",
       "      <td>168</td>\n",
       "      <td>43.1</td>\n",
       "      <td>2.288</td>\n",
       "      <td>33</td>\n",
       "    </tr>\n",
       "  </tbody>\n",
       "</table>\n",
       "</div>"
      ],
      "text/plain": [
       "   Number of times pregnant  \\\n",
       "0                         6   \n",
       "1                         1   \n",
       "2                         8   \n",
       "3                         1   \n",
       "4                         0   \n",
       "\n",
       "   Plasma glucose concentration a 2 hours in an oral glucose tolerance test  \\\n",
       "0                                                148                          \n",
       "1                                                 85                          \n",
       "2                                                183                          \n",
       "3                                                 89                          \n",
       "4                                                137                          \n",
       "\n",
       "   Diastolic blood pressure (mm Hg)  Triceps skinfold thickness (mm)  \\\n",
       "0                                72                               35   \n",
       "1                                66                               29   \n",
       "2                                64                                0   \n",
       "3                                66                               23   \n",
       "4                                40                               35   \n",
       "\n",
       "   2-Hour serum insulin (mu U/ml)  \\\n",
       "0                               0   \n",
       "1                               0   \n",
       "2                               0   \n",
       "3                              94   \n",
       "4                             168   \n",
       "\n",
       "   Body mass index (weight in kg/(height in m)^2)  Diabetes pedigree function  \\\n",
       "0                                            33.6                       0.627   \n",
       "1                                            26.6                       0.351   \n",
       "2                                            23.3                       0.672   \n",
       "3                                            28.1                       0.167   \n",
       "4                                            43.1                       2.288   \n",
       "\n",
       "   Age (years)  \n",
       "0           50  \n",
       "1           31  \n",
       "2           32  \n",
       "3           21  \n",
       "4           33  "
      ]
     },
     "execution_count": 39,
     "metadata": {},
     "output_type": "execute_result"
    }
   ],
   "source": [
    "x.head()"
   ]
  },
  {
   "cell_type": "code",
   "execution_count": 40,
   "id": "c8047a5c",
   "metadata": {},
   "outputs": [
    {
     "data": {
      "text/plain": [
       "0    1\n",
       "1    0\n",
       "2    1\n",
       "3    0\n",
       "4    1\n",
       "Name: Class variable (0 or 1), dtype: int64"
      ]
     },
     "execution_count": 40,
     "metadata": {},
     "output_type": "execute_result"
    }
   ],
   "source": [
    "y.head()"
   ]
  },
  {
   "cell_type": "code",
   "execution_count": 41,
   "id": "4be3c0b2",
   "metadata": {},
   "outputs": [
    {
     "data": {
      "text/plain": [
       "Number of times pregnant                                                    0\n",
       "Plasma glucose concentration a 2 hours in an oral glucose tolerance test    0\n",
       "Diastolic blood pressure (mm Hg)                                            0\n",
       "Triceps skinfold thickness (mm)                                             0\n",
       "2-Hour serum insulin (mu U/ml)                                              0\n",
       "Body mass index (weight in kg/(height in m)^2)                              0\n",
       "Diabetes pedigree function                                                  0\n",
       "Age (years)                                                                 0\n",
       "dtype: int64"
      ]
     },
     "execution_count": 41,
     "metadata": {},
     "output_type": "execute_result"
    }
   ],
   "source": [
    "df.isnull().sum()"
   ]
  },
  {
   "cell_type": "code",
   "execution_count": 42,
   "id": "da309a28",
   "metadata": {},
   "outputs": [
    {
     "data": {
      "text/plain": [
       "<bound method NDFrame._add_numeric_operations.<locals>.sum of      Number of times pregnant  \\\n",
       "0                       False   \n",
       "1                       False   \n",
       "2                       False   \n",
       "3                       False   \n",
       "4                       False   \n",
       "..                        ...   \n",
       "763                     False   \n",
       "764                     False   \n",
       "765                     False   \n",
       "766                     False   \n",
       "767                     False   \n",
       "\n",
       "     Plasma glucose concentration a 2 hours in an oral glucose tolerance test  \\\n",
       "0                                                False                          \n",
       "1                                                False                          \n",
       "2                                                False                          \n",
       "3                                                False                          \n",
       "4                                                False                          \n",
       "..                                                 ...                          \n",
       "763                                              False                          \n",
       "764                                              False                          \n",
       "765                                              False                          \n",
       "766                                              False                          \n",
       "767                                              False                          \n",
       "\n",
       "     Diastolic blood pressure (mm Hg)  Triceps skinfold thickness (mm)  \\\n",
       "0                               False                            False   \n",
       "1                               False                            False   \n",
       "2                               False                            False   \n",
       "3                               False                            False   \n",
       "4                               False                            False   \n",
       "..                                ...                              ...   \n",
       "763                             False                            False   \n",
       "764                             False                            False   \n",
       "765                             False                            False   \n",
       "766                             False                            False   \n",
       "767                             False                            False   \n",
       "\n",
       "     2-Hour serum insulin (mu U/ml)  \\\n",
       "0                             False   \n",
       "1                             False   \n",
       "2                             False   \n",
       "3                             False   \n",
       "4                             False   \n",
       "..                              ...   \n",
       "763                           False   \n",
       "764                           False   \n",
       "765                           False   \n",
       "766                           False   \n",
       "767                           False   \n",
       "\n",
       "     Body mass index (weight in kg/(height in m)^2)  \\\n",
       "0                                             False   \n",
       "1                                             False   \n",
       "2                                             False   \n",
       "3                                             False   \n",
       "4                                             False   \n",
       "..                                              ...   \n",
       "763                                           False   \n",
       "764                                           False   \n",
       "765                                           False   \n",
       "766                                           False   \n",
       "767                                           False   \n",
       "\n",
       "     Diabetes pedigree function  Age (years)  \n",
       "0                         False        False  \n",
       "1                         False        False  \n",
       "2                         False        False  \n",
       "3                         False        False  \n",
       "4                         False        False  \n",
       "..                          ...          ...  \n",
       "763                       False        False  \n",
       "764                       False        False  \n",
       "765                       False        False  \n",
       "766                       False        False  \n",
       "767                       False        False  \n",
       "\n",
       "[768 rows x 8 columns]>"
      ]
     },
     "execution_count": 42,
     "metadata": {},
     "output_type": "execute_result"
    }
   ],
   "source": [
    "df.isna().sum"
   ]
  },
  {
   "cell_type": "code",
   "execution_count": 43,
   "id": "843d1b4a",
   "metadata": {},
   "outputs": [],
   "source": [
    "from sklearn.model_selection import train_test_split"
   ]
  },
  {
   "cell_type": "code",
   "execution_count": 44,
   "id": "380886e6",
   "metadata": {},
   "outputs": [],
   "source": [
    "X_train, X_test, Y_train, Y_test = train_test_split(x,y, test_size=0.25,random_state=42)"
   ]
  },
  {
   "cell_type": "code",
   "execution_count": 45,
   "id": "2ee01fe3",
   "metadata": {},
   "outputs": [],
   "source": [
    "from sklearn.preprocessing import StandardScaler\n",
    "sc = StandardScaler()\n",
    "X_train = sc.fit_transform(X_train)\n",
    "X_test = sc.fit_transform(X_test)"
   ]
  },
  {
   "cell_type": "markdown",
   "id": "3bfd03fd",
   "metadata": {},
   "source": [
    "### MODELS"
   ]
  },
  {
   "cell_type": "code",
   "execution_count": 46,
   "id": "0bd6b2a5",
   "metadata": {},
   "outputs": [
    {
     "data": {
      "text/plain": [
       "LogisticRegression(random_state=0)"
      ]
     },
     "execution_count": 46,
     "metadata": {},
     "output_type": "execute_result"
    }
   ],
   "source": [
    "from sklearn.linear_model import LogisticRegression\n",
    "classifier_log = LogisticRegression(random_state=0)\n",
    "classifier_log.fit(X_train,Y_train)"
   ]
  },
  {
   "cell_type": "code",
   "execution_count": 47,
   "id": "0e2afefe",
   "metadata": {},
   "outputs": [
    {
     "data": {
      "text/plain": [
       "KNeighborsClassifier()"
      ]
     },
     "execution_count": 47,
     "metadata": {},
     "output_type": "execute_result"
    }
   ],
   "source": [
    "from sklearn.neighbors import KNeighborsClassifier\n",
    "classifier_knn = KNeighborsClassifier(n_neighbors=5)\n",
    "classifier_knn.fit(X_train,Y_train)"
   ]
  },
  {
   "cell_type": "code",
   "execution_count": 48,
   "id": "d8e40760",
   "metadata": {},
   "outputs": [
    {
     "data": {
      "text/plain": [
       "SVC(kernel='linear', random_state=0)"
      ]
     },
     "execution_count": 48,
     "metadata": {},
     "output_type": "execute_result"
    }
   ],
   "source": [
    "from sklearn.svm import SVC\n",
    "classifier_svc = SVC(kernel='linear',random_state=0)\n",
    "classifier_svc.fit(X_train,Y_train)"
   ]
  },
  {
   "cell_type": "code",
   "execution_count": 49,
   "id": "afc5d491",
   "metadata": {},
   "outputs": [
    {
     "data": {
      "text/plain": [
       "GaussianNB()"
      ]
     },
     "execution_count": 49,
     "metadata": {},
     "output_type": "execute_result"
    }
   ],
   "source": [
    "from sklearn.naive_bayes import GaussianNB\n",
    "classifier_gnb = GaussianNB()\n",
    "classifier_gnb.fit(X_train,Y_train)"
   ]
  },
  {
   "cell_type": "code",
   "execution_count": 50,
   "id": "fa045e18",
   "metadata": {},
   "outputs": [
    {
     "data": {
      "text/plain": [
       "DecisionTreeClassifier(criterion='entropy', random_state=0)"
      ]
     },
     "execution_count": 50,
     "metadata": {},
     "output_type": "execute_result"
    }
   ],
   "source": [
    "from sklearn.tree import DecisionTreeClassifier\n",
    "classifier_dtc = DecisionTreeClassifier(criterion='entropy',random_state=0)\n",
    "classifier_dtc.fit(X_train,Y_train)"
   ]
  },
  {
   "cell_type": "code",
   "execution_count": 51,
   "id": "4ad3447b",
   "metadata": {},
   "outputs": [
    {
     "data": {
      "text/plain": [
       "RandomForestClassifier(criterion='entropy', n_estimators=10, random_state=0)"
      ]
     },
     "execution_count": 51,
     "metadata": {},
     "output_type": "execute_result"
    }
   ],
   "source": [
    "from sklearn.ensemble import RandomForestClassifier\n",
    "classifier_rfc = RandomForestClassifier(n_estimators=10,criterion='entropy',random_state=0)\n",
    "classifier_rfc.fit(X_train,Y_train)"
   ]
  },
  {
   "cell_type": "code",
   "execution_count": 52,
   "id": "7407ad5b",
   "metadata": {},
   "outputs": [],
   "source": [
    "classifier_list = [classifier_log, classifier_svc, classifier_knn, classifier_gnb, classifier_dtc, classifier_rfc]"
   ]
  },
  {
   "cell_type": "code",
   "execution_count": 53,
   "id": "ffeb13ad",
   "metadata": {},
   "outputs": [],
   "source": [
    "from sklearn.metrics import confusion_matrix, classification_report"
   ]
  },
  {
   "cell_type": "code",
   "execution_count": 54,
   "id": "05998bd0",
   "metadata": {},
   "outputs": [],
   "source": [
    "def accuracy(X_test,Y_test,classifier):\n",
    "    print(f\"\\nClassifier\\n{classifier}\")\n",
    "    Y_pred = classifier.predict(X_test)\n",
    "    correct = 0\n",
    "    total = len(Y_pred)\n",
    "    for i,j in zip(Y_pred,Y_test):\n",
    "        if i==j:\n",
    "            correct += 1\n",
    "    acc = (correct/total)*100\n",
    "    print(\"\\n\" + str(acc) + \"\\n\" + \"-\"*30 + \"\\n\")\n",
    "    print(\"\\n\" + \"=\"*50 + \"\\n\" + classification_report(Y_test,Y_pred) + \"\\n\")\n",
    "    cm = confusion_matrix(Y_test,Y_pred)\n",
    "    print(f\"Confusion Matrix\\n{cm}\\n\")"
   ]
  },
  {
   "cell_type": "code",
   "execution_count": 55,
   "id": "d8806c8a",
   "metadata": {},
   "outputs": [
    {
     "name": "stdout",
     "output_type": "stream",
     "text": [
      "\n",
      "Classifier\n",
      "LogisticRegression(random_state=0)\n",
      "\n",
      "74.47916666666666\n",
      "------------------------------\n",
      "\n",
      "\n",
      "==================================================\n",
      "              precision    recall  f1-score   support\n",
      "\n",
      "           0       0.78      0.83      0.81       123\n",
      "           1       0.66      0.59      0.63        69\n",
      "\n",
      "    accuracy                           0.74       192\n",
      "   macro avg       0.72      0.71      0.72       192\n",
      "weighted avg       0.74      0.74      0.74       192\n",
      "\n",
      "\n",
      "Confusion Matrix\n",
      "[[102  21]\n",
      " [ 28  41]]\n",
      "\n",
      "\n",
      "Classifier\n",
      "SVC(kernel='linear', random_state=0)\n",
      "\n",
      "75.52083333333334\n",
      "------------------------------\n",
      "\n",
      "\n",
      "==================================================\n",
      "              precision    recall  f1-score   support\n",
      "\n",
      "           0       0.79      0.84      0.81       123\n",
      "           1       0.68      0.61      0.64        69\n",
      "\n",
      "    accuracy                           0.76       192\n",
      "   macro avg       0.73      0.72      0.73       192\n",
      "weighted avg       0.75      0.76      0.75       192\n",
      "\n",
      "\n",
      "Confusion Matrix\n",
      "[[103  20]\n",
      " [ 27  42]]\n",
      "\n",
      "\n",
      "Classifier\n",
      "KNeighborsClassifier()\n",
      "\n",
      "68.22916666666666\n",
      "------------------------------\n",
      "\n",
      "\n",
      "==================================================\n",
      "              precision    recall  f1-score   support\n",
      "\n",
      "           0       0.74      0.78      0.76       123\n",
      "           1       0.56      0.51      0.53        69\n",
      "\n",
      "    accuracy                           0.68       192\n",
      "   macro avg       0.65      0.64      0.65       192\n",
      "weighted avg       0.68      0.68      0.68       192\n",
      "\n",
      "\n",
      "Confusion Matrix\n",
      "[[96 27]\n",
      " [34 35]]\n",
      "\n",
      "\n",
      "Classifier\n",
      "GaussianNB()\n",
      "\n",
      "75.52083333333334\n",
      "------------------------------\n",
      "\n",
      "\n",
      "==================================================\n",
      "              precision    recall  f1-score   support\n",
      "\n",
      "           0       0.81      0.80      0.81       123\n",
      "           1       0.66      0.67      0.66        69\n",
      "\n",
      "    accuracy                           0.76       192\n",
      "   macro avg       0.73      0.74      0.74       192\n",
      "weighted avg       0.76      0.76      0.76       192\n",
      "\n",
      "\n",
      "Confusion Matrix\n",
      "[[99 24]\n",
      " [23 46]]\n",
      "\n",
      "\n",
      "Classifier\n",
      "DecisionTreeClassifier(criterion='entropy', random_state=0)\n",
      "\n",
      "70.3125\n",
      "------------------------------\n",
      "\n",
      "\n",
      "==================================================\n",
      "              precision    recall  f1-score   support\n",
      "\n",
      "           0       0.78      0.75      0.76       123\n",
      "           1       0.58      0.62      0.60        69\n",
      "\n",
      "    accuracy                           0.70       192\n",
      "   macro avg       0.68      0.69      0.68       192\n",
      "weighted avg       0.71      0.70      0.71       192\n",
      "\n",
      "\n",
      "Confusion Matrix\n",
      "[[92 31]\n",
      " [26 43]]\n",
      "\n",
      "\n",
      "Classifier\n",
      "RandomForestClassifier(criterion='entropy', n_estimators=10, random_state=0)\n",
      "\n",
      "73.95833333333334\n",
      "------------------------------\n",
      "\n",
      "\n",
      "==================================================\n",
      "              precision    recall  f1-score   support\n",
      "\n",
      "           0       0.77      0.84      0.80       123\n",
      "           1       0.66      0.57      0.61        69\n",
      "\n",
      "    accuracy                           0.74       192\n",
      "   macro avg       0.72      0.70      0.71       192\n",
      "weighted avg       0.73      0.74      0.73       192\n",
      "\n",
      "\n",
      "Confusion Matrix\n",
      "[[103  20]\n",
      " [ 30  39]]\n",
      "\n"
     ]
    }
   ],
   "source": [
    "for clf in classifier_list:\n",
    "    accuracy(X_test,Y_test,clf)"
   ]
  },
  {
   "cell_type": "code",
   "execution_count": null,
   "id": "ef0240a2",
   "metadata": {},
   "outputs": [],
   "source": []
  }
 ],
 "metadata": {
  "kernelspec": {
   "display_name": "Python 3",
   "language": "python",
   "name": "python3"
  },
  "language_info": {
   "codemirror_mode": {
    "name": "ipython",
    "version": 3
   },
   "file_extension": ".py",
   "mimetype": "text/x-python",
   "name": "python",
   "nbconvert_exporter": "python",
   "pygments_lexer": "ipython3",
   "version": "3.8.8"
  }
 },
 "nbformat": 4,
 "nbformat_minor": 5
}
